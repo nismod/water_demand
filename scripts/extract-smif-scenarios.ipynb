{
 "cells": [
  {
   "cell_type": "code",
   "execution_count": null,
   "metadata": {},
   "outputs": [],
   "source": [
    "import numpy as np\n",
    "import pandas as pd"
   ]
  },
  {
   "cell_type": "code",
   "execution_count": null,
   "metadata": {},
   "outputs": [],
   "source": [
    "# The large spreadsheet\n",
    "data_file = 'WRZ_summary_data.csv'\n",
    "\n",
    "# Read into pandas data frame ignoring some cols\n",
    "pd_data = pd.read_csv(\n",
    "    data_file,\n",
    "    usecols=lambda col: col.lower().strip() not in [\n",
    "        'owner'.lower(),\n",
    "        'wrmp_14_by_19_factor'.lower(),\n",
    "        'wrmp_14_wrz_name'.lower(),\n",
    "    ]\n",
    ")"
   ]
  },
  {
   "cell_type": "code",
   "execution_count": null,
   "metadata": {},
   "outputs": [],
   "source": [
    "pd_data.head()"
   ]
  },
  {
   "cell_type": "code",
   "execution_count": null,
   "metadata": {},
   "outputs": [],
   "source": [
    "legend = pd_data[['ea_code', 'measurement', 'unit']].sort_values(by='ea_code').drop_duplicates()\n",
    "legend = legend[\n",
    "    legend.measurement.str.contains('PCC') \n",
    "    | legend.measurement.str.contains('Population') \n",
    "    | legend.measurement.str.contains('Distribution Input')\n",
    "    | legend.measurement.str.contains('Distribution input')\n",
    "]\n",
    "legend"
   ]
  },
  {
   "cell_type": "code",
   "execution_count": null,
   "metadata": {},
   "outputs": [],
   "source": [
    "def fix_nottinghamshire(record):\n",
    "    if record['GIS Ref'] == 11:\n",
    "        return 'Nottinghamshire.1'\n",
    "    if record['GIS Ref'] == 80:\n",
    "        return 'Nottinghamshire.2'\n",
    "    return record['WRZ Name']\n",
    "pd_data['WRZ Name'] = pd_data.apply(fix_nottinghamshire, axis=1)"
   ]
  },
  {
   "cell_type": "code",
   "execution_count": null,
   "metadata": {},
   "outputs": [],
   "source": [
    "exclude_wrzs = ['Barepot', 'Rutland', 'South Humber Bank', 'Industrial']\n",
    "data = pd_data[pd_data.ea_code.isin(legend.ea_code) & ~pd_data['WRZ Name'].isin(exclude_wrzs)].copy()\n",
    "data.value = data.value.astype(float)\n",
    "data.year = data.year.apply(lambda d: d.split(\"-\")[0]).astype(int)\n",
    "data = data[['WRZ Name', 'ea_code', 'year', 'value']] \\\n",
    "    .pivot_table(index=['WRZ Name', 'year'], columns='ea_code') \\\n",
    "    .reset_index()\n",
    "data.columns = [\n",
    "    col[1] if col[0] == 'value'\n",
    "    else col[0]\n",
    "    for col in data.columns\n",
    "]\n",
    "data = data.rename(columns={\n",
    "    'WRZ Name': 'water_resource_zones',\n",
    "    'year': 'timestep'\n",
    "})\n",
    "data"
   ]
  },
  {
   "cell_type": "code",
   "execution_count": null,
   "metadata": {},
   "outputs": [],
   "source": [
    "# Handwritten expected water resource zone names\n",
    "expected_names = np.asarray([\n",
    "    'Ashford', 'Berwick', 'Bishops Castle', 'Blyth', 'Bourne', 'Bournemouth',\n",
    "    'Bracknell', 'Brett', 'Bristol Water', 'Bury Haverhill', 'Cambridge',\n",
    "    'Carlisle', 'Central Essex', 'Central Lincolnshire', 'Chester',\n",
    "    'Cheveley', 'Colliford', 'Colne', 'Company', 'Cranbrook', 'Dour',\n",
    "    'East Lincolnshire', 'East SWZ', 'East Suffolk', 'Eastbourne', 'Ely',\n",
    "    'Essex', 'Farnham', 'Forest and Stroud', 'Grid SWZ', 'Guildford (GUI)',\n",
    "    'Hampshire Andover', 'Hampshire Kingsclere', 'Hampshire Rural',\n",
    "    'Hampshire Southampton East', 'Hampshire Southampton West',\n",
    "    'Hampshire Winchester', 'Happisburgh', 'Hartismere', 'Hartlepol',\n",
    "    'Haywards Heath', 'Henley (HEN)', 'Isle of Wight', 'Ixworth',\n",
    "    'Kennet Valley (KV)', 'Kent Medway East', 'Kent Medway West',\n",
    "    'Kent Thanet', 'Kielder', 'Kinsall', 'Lee', 'London (LON)', 'Maidstone',\n",
    "    'Mardy', 'Misbourne', 'Newark', 'Newmarket', 'North Eden',\n",
    "    'North Fenland', 'North Norfolk Coast', 'North Norfolk Rural',\n",
    "    'North Staffordshire', 'Northern Central', 'Norwich and the Broads',\n",
    "    'Nottinghamshire.1', 'Nottinghamshire.2', 'Pinn', 'Roadford',\n",
    "    'Ruthamford Central', 'Ruthamford North', 'Ruthamford South',\n",
    "    'Ruthamford West', 'Ruyton', 'SES Water', 'Shelton', 'Slough (SWA)',\n",
    "    'South Essex', 'South Fenland', 'South Lincolnshire',\n",
    "    'South Norfolk Rural', 'South Staffs', 'Stafford', 'Stort', 'Strategic',\n",
    "    'Strategic Grid', 'Sudbury', 'Supply Area', 'Sussex Brighton',\n",
    "    'Sussex Hastings', 'Sussex North', 'Sussex Worthing', 'Swindon (SWOX)',\n",
    "    'Thetford', 'Tunbridge Wells', 'Wey', 'Whitchurch and Wem', 'Wimbleball',\n",
    "    'Wolverhampton'\n",
    "])\n",
    "\n",
    "# Check the names match up for a representative slice of the data\n",
    "names_from_filter = data[data.timestep == 2025]['water_resource_zones'].values\n",
    "assert np.array_equal(expected_names, names_from_filter), set(names_from_filter) ^ set(expected_names)"
   ]
  },
  {
   "cell_type": "code",
   "execution_count": null,
   "metadata": {},
   "outputs": [],
   "source": [
    "# data[data['WRZ Name'].str.contains('Nottinghamshire')]"
   ]
  },
  {
   "cell_type": "code",
   "execution_count": null,
   "metadata": {},
   "outputs": [],
   "source": [
    "def get_wales():\n",
    "    # Additional water resource zone names for Wales, not in the spreadsheet\n",
    "    zones = pd.DataFrame([\n",
    "        {'water_resource_zones': 'Wye', 'population': 349.3},\n",
    "        {'water_resource_zones': 'SEWCUS', 'population': 1340.8},\n",
    "        {'water_resource_zones': 'Tywi CUS', 'population': 752.1},\n",
    "        {'water_resource_zones': 'Alwen', 'population': 158.7},\n",
    "        {'water_resource_zones': 'Ross Bulk Supply', 'population': 22.2},\n",
    "    ])\n",
    "    # Generate dataframe with constant population over full time range\n",
    "    dfs = []\n",
    "    for year in range(2020, 2045):\n",
    "        df = zones.copy()\n",
    "        df['timestep'] = year\n",
    "        dfs.append(df)\n",
    "\n",
    "    wales = pd.concat(dfs, axis=0)\n",
    "    return wales"
   ]
  },
  {
   "cell_type": "code",
   "execution_count": null,
   "metadata": {},
   "outputs": [],
   "source": [
    "def calculate(data, scenario):\n",
    "    df = data.rename(columns={\n",
    "        '11{}'.format(scenario): 'distribution_input',\n",
    "        '29{}'.format(scenario): 'pcc_measured', \n",
    "        '30{}'.format(scenario): 'pcc_unmeasured', \n",
    "        '49{}'.format(scenario): 'pop_measured_non_household',\n",
    "        '50{}'.format(scenario): 'pop_unmeasured_non_household',\n",
    "        '51{}'.format(scenario): 'pop_measured_household',\n",
    "        '52{}'.format(scenario): 'pop_unmeasured_household',\n",
    "        '53{}'.format(scenario): 'population',\n",
    "    }).copy()\n",
    "\n",
    "    # Constant in Ml per day (1e3 scale for pop * 1e-6 scale for Ml = 1e-3)\n",
    "    df['pop_measured'] = df.pop_measured_non_household + df.pop_measured_household\n",
    "    df['pop_unmeasured'] = df.pop_unmeasured_non_household + df.pop_unmeasured_household\n",
    "\n",
    "    df['constant_water_demand'] = df.distribution_input - 1e-3 * (\n",
    "        df.pcc_measured * df.pop_measured \n",
    "        + df.pcc_unmeasured * df.pop_unmeasured\n",
    "    )\n",
    "\n",
    "    # Per capita in Ml/(thousand people)/day\n",
    "    df['per_capita_water_demand'] = (df.distribution_input - df.constant_water_demand) / df.population\n",
    "    \n",
    "    # Check that the calculation gives back the original answer\n",
    "    assert np.all(np.abs(\n",
    "        df.constant_water_demand \n",
    "        + df.per_capita_water_demand * df.population\n",
    "        - df.distribution_input\n",
    "    ) < 1e-9)\n",
    "\n",
    "    # Calculate mean values for extra regions\n",
    "    mean_pcc = df.per_capita_water_demand.mean()\n",
    "    mean_constant_demand_per_person = (df.constant_water_demand / df.population).mean()\n",
    "    \n",
    "    wales = get_wales() # timestep, water_resource_zones, population\n",
    "    wales['per_capita_water_demand'] = mean_pcc\n",
    "    wales['constant_water_demand'] = wales.population * mean_constant_demand_per_person\n",
    "\n",
    "    england = df[['timestep', 'water_resource_zones', 'population', 'per_capita_water_demand', 'constant_water_demand']]\n",
    "    \n",
    "    return pd.concat([england, wales], axis=0, sort=True)"
   ]
  },
  {
   "cell_type": "markdown",
   "metadata": {},
   "source": [
    "### Output"
   ]
  },
  {
   "cell_type": "code",
   "execution_count": null,
   "metadata": {},
   "outputs": [],
   "source": [
    "for scenario in ('BL', 'FP'):\n",
    "    scenario_data = calculate(data, scenario)\n",
    "    \n",
    "    scenario_data[['timestep', 'water_resource_zones', 'per_capita_water_demand']] \\\n",
    "        .to_csv('per_capita_water_demand__{}.csv'.format(scenario), index=False)\n",
    "\n",
    "    scenario_data[['timestep', 'water_resource_zones', 'constant_water_demand']] \\\n",
    "        .to_csv('constant_water_demand__{}.csv'.format(scenario), index=False)\n",
    "\n",
    "    scenario_data[['water_resource_zones']].drop_duplicates() \\\n",
    "        .to_csv('water_resource_zones.csv'.format(scenario), index=False)"
   ]
  },
  {
   "cell_type": "markdown",
   "metadata": {},
   "source": [
    "## Sense check\n",
    "\n",
    "Combine scenario data, summarise at national level, compare to reshaped input data.\n",
    "\n",
    "Note that scenario data as output includes Wales."
   ]
  },
  {
   "cell_type": "code",
   "execution_count": null,
   "metadata": {},
   "outputs": [],
   "source": [
    "bl = calculate(data, 'BL')\n",
    "bl['scenario'] = 'BL'\n",
    "fp = calculate(data, 'FP')\n",
    "fp['scenario'] = 'FP'\n",
    "df = pd.concat([bl, fp], axis=0)\n",
    "df.head()"
   ]
  },
  {
   "cell_type": "code",
   "execution_count": null,
   "metadata": {},
   "outputs": [],
   "source": [
    "total = df.groupby(['scenario', 'timestep']).sum().reset_index()\n",
    "mean = df.groupby(['scenario', 'timestep']).mean().reset_index()"
   ]
  },
  {
   "cell_type": "code",
   "execution_count": null,
   "metadata": {},
   "outputs": [],
   "source": [
    "before_total = data.groupby('timestep').sum()\n",
    "before_mean = data.groupby('timestep').mean()"
   ]
  },
  {
   "cell_type": "code",
   "execution_count": null,
   "metadata": {},
   "outputs": [],
   "source": [
    "total.pivot(index='timestep', columns='scenario', values='population').plot()"
   ]
  },
  {
   "cell_type": "code",
   "execution_count": null,
   "metadata": {},
   "outputs": [],
   "source": [
    "before_total[['53BL', '53FP']].plot()"
   ]
  },
  {
   "cell_type": "code",
   "execution_count": null,
   "metadata": {},
   "outputs": [],
   "source": [
    "total.pivot(index='timestep', columns='scenario', values='constant_water_demand').plot()"
   ]
  },
  {
   "cell_type": "code",
   "execution_count": null,
   "metadata": {},
   "outputs": [],
   "source": [
    "mean.pivot(index='timestep', columns='scenario', values='per_capita_water_demand').plot()"
   ]
  },
  {
   "cell_type": "code",
   "execution_count": null,
   "metadata": {},
   "outputs": [],
   "source": [
    "before_mean[['31BL', '31FP']].plot()"
   ]
  },
  {
   "cell_type": "code",
   "execution_count": null,
   "metadata": {},
   "outputs": [],
   "source": [
    "total['mean_pcc'] = mean['per_capita_water_demand']\n",
    "total['total_demand'] = total.population * total.mean_pcc + total.constant_water_demand"
   ]
  },
  {
   "cell_type": "code",
   "execution_count": null,
   "metadata": {},
   "outputs": [],
   "source": [
    "total.pivot(index='timestep', columns='scenario', values='total_demand').plot()"
   ]
  },
  {
   "cell_type": "code",
   "execution_count": null,
   "metadata": {},
   "outputs": [],
   "source": [
    "before_total[['11BL', '11FP']].plot()"
   ]
  }
 ],
 "metadata": {
  "kernelspec": {
   "display_name": "Python 3",
   "language": "python",
   "name": "python3"
  },
  "language_info": {
   "codemirror_mode": {
    "name": "ipython",
    "version": 3
   },
   "file_extension": ".py",
   "mimetype": "text/x-python",
   "name": "python",
   "nbconvert_exporter": "python",
   "pygments_lexer": "ipython3",
   "version": "3.7.3"
  }
 },
 "nbformat": 4,
 "nbformat_minor": 2
}
